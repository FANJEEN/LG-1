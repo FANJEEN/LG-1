{
  "nbformat": 4,
  "nbformat_minor": 0,
  "metadata": {
    "colab": {
      "name": "gg-29-선형회귀.ipynb",
      "version": "0.3.2",
      "provenance": []
    },
    "kernelspec": {
      "name": "python3",
      "display_name": "Python 3"
    },
    "accelerator": "GPU"
  },
  "cells": [
    {
      "metadata": {
        "id": "qjX8FZ47BLY4",
        "colab_type": "text"
      },
      "cell_type": "markdown",
      "source": [
        "선형회귀\n",
        "==\n",
        "다루는 내용\n",
        "--\n",
        "- 머신러닝 개념\n",
        "- 경사하강법"
      ]
    },
    {
      "metadata": {
        "id": "WK3jqbDwBLY8",
        "colab_type": "code",
        "colab": {
          "base_uri": "https://localhost:8080/",
          "height": 284
        },
        "outputId": "e323445b-9338-44ff-9146-55893fba63a8"
      },
      "cell_type": "code",
      "source": [
        "import numpy as np\n",
        "import pandas as pd\n",
        "import matplotlib.pyplot as plt\n",
        "%matplotlib inline\n",
        "\n",
        "n_samples = 200\n",
        "x = np.random.randn(n_samples)\n",
        "\n",
        "# 계수 및 절편\n",
        "w = 2\n",
        "b = 3\n",
        "# 노이지 \n",
        "y = w*x + b + 0.1*np.random.randn(n_samples)\n",
        "plt.scatter(x,y, s=10)"
      ],
      "execution_count": 2,
      "outputs": [
        {
          "output_type": "execute_result",
          "data": {
            "text/plain": [
              "<matplotlib.collections.PathCollection at 0x7f02d3e41e10>"
            ]
          },
          "metadata": {
            "tags": []
          },
          "execution_count": 2
        },
        {
          "output_type": "display_data",
          "data": {
            "image/png": "[encoded data removed]",
            "text/plain": [
              "<Figure size 432x288 with 1 Axes>"
            ]
          },
          "metadata": {
            "tags": []
          }
        }
      ]
    },
    {
      "metadata": {
        "id": "TvvPlz-dBLZK",
        "colab_type": "code",
        "colab": {
          "base_uri": "https://localhost:8080/",
          "height": 55
        },
        "outputId": "cc96da69-9616-4ee7-eb98-74c03262ac1a"
      },
      "cell_type": "code",
      "source": [
        "np.corrcoef(x,y)"
      ],
      "execution_count": 29,
      "outputs": [
        {
          "output_type": "execute_result",
          "data": {
            "text/plain": [
              "array([[1.        , 0.99853908],\n",
              "       [0.99853908, 1.        ]])"
            ]
          },
          "metadata": {
            "tags": []
          },
          "execution_count": 29
        }
      ]
    },
    {
      "metadata": {
        "id": "YW_9V-E4BLZN",
        "colab_type": "code",
        "colab": {
          "base_uri": "https://localhost:8080/",
          "height": 55
        },
        "outputId": "6e83db58-9115-471a-83b4-7ab981483142"
      },
      "cell_type": "code",
      "source": [
        "from sklearn.linear_model import LinearRegression\n",
        "leg = LinearRegression() # (1)선택\n",
        "leg.fit(x.reshape(-1,1), y) #(2)학습\n",
        "\n",
        "print(leg.coef_)\n",
        "print(leg.intercept_)"
      ],
      "execution_count": 27,
      "outputs": [
        {
          "output_type": "stream",
          "text": [
            "[2.04559977]\n",
            "2.9406464955992684\n"
          ],
          "name": "stdout"
        }
      ]
    },
    {
      "metadata": {
        "id": "XKqnE1_6hT5E",
        "colab_type": "code",
        "colab": {
          "base_uri": "https://localhost:8080/",
          "height": 36
        },
        "outputId": "62504ca7-f807-41de-d7b3-994483b453e1"
      },
      "cell_type": "code",
      "source": [
        "x = np.arange(12)\n",
        "x\n"
      ],
      "execution_count": 10,
      "outputs": [
        {
          "output_type": "execute_result",
          "data": {
            "text/plain": [
              "array([ 0,  1,  2,  3,  4,  5,  6,  7,  8,  9, 10, 11])"
            ]
          },
          "metadata": {
            "tags": []
          },
          "execution_count": 10
        }
      ]
    },
    {
      "metadata": {
        "id": "no98ijmRhvi8",
        "colab_type": "code",
        "colab": {
          "base_uri": "https://localhost:8080/",
          "height": 148
        },
        "outputId": "b5189fe3-ba70-411a-ad85-8fb59e4d12bb"
      },
      "cell_type": "code",
      "source": [
        "#x.reshape(-1,1) # -1은 개수는 모름\n",
        "x.reshape(2,3,2) # rank가 3인 tensor"
      ],
      "execution_count": 13,
      "outputs": [
        {
          "output_type": "execute_result",
          "data": {
            "text/plain": [
              "array([[[ 0,  1],\n",
              "        [ 2,  3],\n",
              "        [ 4,  5]],\n",
              "\n",
              "       [[ 6,  7],\n",
              "        [ 8,  9],\n",
              "        [10, 11]]])"
            ]
          },
          "metadata": {
            "tags": []
          },
          "execution_count": 13
        }
      ]
    },
    {
      "metadata": {
        "id": "Q6ugKFKPBLZS",
        "colab_type": "text"
      },
      "cell_type": "markdown",
      "source": [
        "변수가 2개인 경우\n",
        "--"
      ]
    },
    {
      "metadata": {
        "id": "NGGQw2vLBLZU",
        "colab_type": "code",
        "colab": {
          "base_uri": "https://localhost:8080/",
          "height": 55
        },
        "outputId": "3e1a09c7-c8d4-487e-dd06-bd8d039e87c0"
      },
      "cell_type": "code",
      "source": [
        "n_samples = 200\n",
        "x1 = np.random.randn(n_samples)\n",
        "x2 = np.random.randn(n_samples)\n",
        "\n",
        "y = 2000 * x1 + 3 * x2 + 4 + 3*np.random.randn(n_samples)\n",
        "\n",
        "leg = LinearRegression()\n",
        "X = pd.DataFrame({'x1':x1, 'x2':x2})\n",
        "leg.fit(X, y)\n",
        "\n",
        "print(leg.coef_)\n",
        "print(leg.intercept_)"
      ],
      "execution_count": 21,
      "outputs": [
        {
          "output_type": "stream",
          "text": [
            "[1999.97462539    3.04758239]\n",
            "4.253702379197975\n"
          ],
          "name": "stdout"
        }
      ]
    },
    {
      "metadata": {
        "id": "_gKJfbKXBLZb",
        "colab_type": "code",
        "colab": {
          "base_uri": "https://localhost:8080/",
          "height": 36
        },
        "outputId": "8be0b23b-bb71-4798-ade9-c6f7d75992c9"
      },
      "cell_type": "code",
      "source": [
        "leg.score(X,y) #회귀분석은 R square"
      ],
      "execution_count": 22,
      "outputs": [
        {
          "output_type": "execute_result",
          "data": {
            "text/plain": [
              "0.9999980539890211"
            ]
          },
          "metadata": {
            "tags": []
          },
          "execution_count": 22
        }
      ]
    },
    {
      "metadata": {
        "id": "MIGTsWFaBLZg",
        "colab_type": "text"
      },
      "cell_type": "markdown",
      "source": [
        "경사하강법\n",
        "--"
      ]
    },
    {
      "metadata": {
        "scrolled": false,
        "id": "1LfQdPvvBLZj",
        "colab_type": "code",
        "colab": {
          "base_uri": "https://localhost:8080/",
          "height": 204
        },
        "outputId": "36909d1d-8aaf-42bd-e4f3-2351be3ad33c"
      },
      "cell_type": "code",
      "source": [
        "num_epoch = 10\n",
        "lr = 1.0 # 3.0 #발산\n",
        "\n",
        "w1 = np.random.uniform()\n",
        "w2 = np.random.uniform()\n",
        "b = np.random.uniform()\n",
        "\n",
        "for epoch in range(num_epoch):\n",
        "    y_pred = w1*x1 + w2*x2 + b\n",
        "    error = np.abs(y_pred - y).mean() #배치사이즈\n",
        "    print(f\"{epoch:2} w1 = {w1:.6f},  w2 = {w2:.6f}, b = {b:.6f} , error = {error:.6f}\")\n",
        "\n",
        "    w1 = w1 - lr*((y_pred - y)* x1).mean()\n",
        "    w2 = w2 - lr*((y_pred - y)* x2).mean()\n",
        "    b = b - lr*((y_pred - y)).mean()"
      ],
      "execution_count": 23,
      "outputs": [
        {
          "output_type": "stream",
          "text": [
            " 0 w1 = 0.433973,  w2 = 0.755502, b = 0.959172 , error = 1615.898086\n",
            " 1 w1 = 2097.481438,  w2 = 169.421970, b = -37.811298 , error = 166.756348\n",
            " 2 w1 = 1980.597030,  w2 = -39.582387, b = -30.190669 , error = 55.030823\n",
            " 3 w1 = 2003.703923,  w2 = 23.434495, b = 13.198711 , error = 21.405127\n",
            " 4 w1 = 1998.300628,  w2 = -4.592660, b = -0.141956 , error = 8.762542\n",
            " 5 w1 = 2000.593225,  w2 = 6.162705, b = 5.895144 , error = 4.143787\n",
            " 6 w1 = 1999.722310,  w2 = 1.815841, b = 3.583083 , error = 2.693795\n",
            " 7 w1 = 2000.074309,  w2 = 3.539995, b = 4.518705 , error = 2.415137\n",
            " 8 w1 = 1999.934767,  w2 = 2.851507, b = 4.147737 , error = 2.321789\n",
            " 9 w1 = 1999.990495,  w2 = 3.125769, b = 4.295894 , error = 2.330901\n"
          ],
          "name": "stdout"
        }
      ]
    },
    {
      "metadata": {
        "id": "9EaWRRj4BLZv",
        "colab_type": "code",
        "colab": {
          "base_uri": "https://localhost:8080/",
          "height": 36
        },
        "outputId": "4d1f1d36-d0bc-4921-fd2b-afbe01afdbf6"
      },
      "cell_type": "code",
      "source": [
        "leg.score(X,y)"
      ],
      "execution_count": 24,
      "outputs": [
        {
          "output_type": "execute_result",
          "data": {
            "text/plain": [
              "0.9999980539890211"
            ]
          },
          "metadata": {
            "tags": []
          },
          "execution_count": 24
        }
      ]
    },
    {
      "metadata": {
        "id": "amIeUofOBLZ2",
        "colab_type": "code",
        "colab": {}
      },
      "cell_type": "code",
      "source": [
        ""
      ],
      "execution_count": 0,
      "outputs": []
    },
    {
      "metadata": {
        "id": "JiWhcfkBBLZ5",
        "colab_type": "code",
        "colab": {}
      },
      "cell_type": "code",
      "source": [
        ""
      ],
      "execution_count": 0,
      "outputs": []
    }
  ]
}