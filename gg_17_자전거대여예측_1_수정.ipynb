{
  "nbformat": 4,
  "nbformat_minor": 0,
  "metadata": {
    "colab": {
      "name": "g-17-자전거대여예측-1.ipynb",
      "version": "0.3.2",
      "provenance": []
    },
    "kernelspec": {
      "name": "python3",
      "display_name": "Python 3"
    },
    "accelerator": "GPU"
  },
  "cells": [
    {
      "metadata": {
        "colab_type": "text",
        "id": "z3sm3tO66_ul"
      },
      "cell_type": "markdown",
      "source": [
        "## colab에서 실행\n",
        "\n",
        "## 데이터 https://goo.gl/s8qSL5"
      ]
    },
    {
      "metadata": {
        "colab_type": "code",
        "id": "8pvv5VcZ6_un",
        "colab": {}
      },
      "cell_type": "code",
      "source": [
        "import numpy as np\n",
        "import pandas as pd\n",
        "import seaborn as sns\n",
        "import matplotlib.pyplot as plt\n",
        "from sklearn.ensemble import RandomForestRegressor\n",
        "from sklearn.linear_model import LinearRegression\n",
        "from sklearn.tree import DecisionTreeRegressor\n",
        "from sklearn import svm\n",
        "from sklearn.model_selection import cross_val_score, train_test_split\n",
        "from sklearn.metrics import make_scorer\n",
        "%matplotlib inline"
      ],
      "execution_count": 0,
      "outputs": []
    },
    {
      "metadata": {
        "id": "IwBdnSQkwvkB",
        "colab_type": "text"
      },
      "cell_type": "markdown",
      "source": [
        "## colab에서 실행하는 경우 필요한 코드"
      ]
    },
    {
      "metadata": {
        "colab_type": "code",
        "id": "8Czy7G2I7DnQ",
        "outputId": "f6c9eb0a-beef-4dc7-be7b-801631d9dcc5",
        "colab": {
          "base_uri": "https://localhost:8080/",
          "height": 504
        }
      },
      "cell_type": "code",
      "source": [
        "import os, os.path, shutil\n",
        "if not os.path.exists(\"./data\"):\n",
        "    os.makedirs(\"./data\")\n",
        "#     https://www.dropbox.com/s/x7igxpgnq669l7y/bike_train.csv\n",
        "!wget https://goo.gl/s8qSL5  -O ./data/bike_train.csv"
      ],
      "execution_count": 2,
      "outputs": [
        {
          "output_type": "stream",
          "text": [
            "--2019-03-08 00:47:26--  https://goo.gl/s8qSL5\n",
            "Resolving goo.gl (goo.gl)... 74.125.203.113, 74.125.203.100, 74.125.203.138, ...\n",
            "Connecting to goo.gl (goo.gl)|74.125.203.113|:443... connected.\n",
            "HTTP request sent, awaiting response... 302 Found\n",
            "Location: https://www.dropbox.com/s/x7igxpgnq669l7y/bike_train.csv [following]\n",
            "--2019-03-08 00:47:27--  https://www.dropbox.com/s/x7igxpgnq669l7y/bike_train.csv\n",
            "Resolving www.dropbox.com (www.dropbox.com)... 162.125.82.1, 2620:100:6032:1::a27d:5201\n",
            "Connecting to www.dropbox.com (www.dropbox.com)|162.125.82.1|:443... connected.\n",
            "HTTP request sent, awaiting response... 301 Moved Permanently\n",
            "Location: /s/raw/x7igxpgnq669l7y/bike_train.csv [following]\n",
            "--2019-03-08 00:47:28--  https://www.dropbox.com/s/raw/x7igxpgnq669l7y/bike_train.csv\n",
            "Reusing existing connection to www.dropbox.com:443.\n",
            "HTTP request sent, awaiting response... 302 Found\n",
            "Location: https://ucb0739e2d02915d0355af88a23a.dl.dropboxusercontent.com/cd/0/inline/Acp28EI1nSVd30psQ_aabDqfdQ5cZn5m0XHTeh4WQDOiXU4YOAtsvYs6NY26l9P1HPf8KlH_2YGAXFW2txKqiJSLRGbli6jzVRuqJBbwxzn-V4WfURSjr2QFi0kJ13sV9w0/file# [following]\n",
            "--2019-03-08 00:47:28--  https://ucb0739e2d02915d0355af88a23a.dl.dropboxusercontent.com/cd/0/inline/Acp28EI1nSVd30psQ_aabDqfdQ5cZn5m0XHTeh4WQDOiXU4YOAtsvYs6NY26l9P1HPf8KlH_2YGAXFW2txKqiJSLRGbli6jzVRuqJBbwxzn-V4WfURSjr2QFi0kJ13sV9w0/file\n",
            "Resolving ucb0739e2d02915d0355af88a23a.dl.dropboxusercontent.com (ucb0739e2d02915d0355af88a23a.dl.dropboxusercontent.com)... 162.125.82.6, 2620:100:6032:6::a27d:5206\n",
            "Connecting to ucb0739e2d02915d0355af88a23a.dl.dropboxusercontent.com (ucb0739e2d02915d0355af88a23a.dl.dropboxusercontent.com)|162.125.82.6|:443... connected.\n",
            "HTTP request sent, awaiting response... 200 OK\n",
            "Length: 659240 (644K) [text/plain]\n",
            "Saving to: ‘./data/bike_train.csv’\n",
            "\n",
            "./data/bike_train.c 100%[===================>] 643.79K   901KB/s    in 0.7s    \n",
            "\n",
            "2019-03-08 00:47:30 (901 KB/s) - ‘./data/bike_train.csv’ saved [659240/659240]\n",
            "\n"
          ],
          "name": "stdout"
        }
      ]
    },
    {
      "metadata": {
        "colab_type": "code",
        "id": "zP5_9eom6_ur",
        "outputId": "a865adf2-fd85-4af5-c482-ab610dace3de",
        "colab": {
          "base_uri": "https://localhost:8080/",
          "height": 202
        }
      },
      "cell_type": "code",
      "source": [
        "train = pd.read_csv(\"data/bike_train.csv\", parse_dates=[\"datetime\"])\n",
        "#train = pd.read_csv(\"data/bike_train.csv\")\n",
        "train.head()"
      ],
      "execution_count": 4,
      "outputs": [
        {
          "output_type": "execute_result",
          "data": {
            "text/html": [
              "<div>\n",
              "<style scoped>\n",
              "    .dataframe tbody tr th:only-of-type {\n",
              "        vertical-align: middle;\n",
              "    }\n",
              "\n",
              "    .dataframe tbody tr th {\n",
              "        vertical-align: top;\n",
              "    }\n",
              "\n",
              "    .dataframe thead th {\n",
              "        text-align: right;\n",
              "    }\n",
              "</style>\n",
              "<table border=\"1\" class=\"dataframe\">\n",
              "  <thead>\n",
              "    <tr style=\"text-align: right;\">\n",
              "      <th></th>\n",
              "      <th>datetime</th>\n",
              "      <th>season</th>\n",
              "      <th>holiday</th>\n",
              "      <th>workingday</th>\n",
              "      <th>weather</th>\n",
              "      <th>temp</th>\n",
              "      <th>atemp</th>\n",
              "      <th>humidity</th>\n",
              "      <th>windspeed</th>\n",
              "      <th>casual</th>\n",
              "      <th>registered</th>\n",
              "      <th>count</th>\n",
              "    </tr>\n",
              "  </thead>\n",
              "  <tbody>\n",
              "    <tr>\n",
              "      <th>0</th>\n",
              "      <td>2011-01-01 00:00:00</td>\n",
              "      <td>1</td>\n",
              "      <td>0</td>\n",
              "      <td>0</td>\n",
              "      <td>1</td>\n",
              "      <td>9.84</td>\n",
              "      <td>14.395</td>\n",
              "      <td>81</td>\n",
              "      <td>0.0</td>\n",
              "      <td>3</td>\n",
              "      <td>13</td>\n",
              "      <td>16</td>\n",
              "    </tr>\n",
              "    <tr>\n",
              "      <th>1</th>\n",
              "      <td>2011-01-01 01:00:00</td>\n",
              "      <td>1</td>\n",
              "      <td>0</td>\n",
              "      <td>0</td>\n",
              "      <td>1</td>\n",
              "      <td>9.02</td>\n",
              "      <td>13.635</td>\n",
              "      <td>80</td>\n",
              "      <td>0.0</td>\n",
              "      <td>8</td>\n",
              "      <td>32</td>\n",
              "      <td>40</td>\n",
              "    </tr>\n",
              "    <tr>\n",
              "      <th>2</th>\n",
              "      <td>2011-01-01 02:00:00</td>\n",
              "      <td>1</td>\n",
              "      <td>0</td>\n",
              "      <td>0</td>\n",
              "      <td>1</td>\n",
              "      <td>9.02</td>\n",
              "      <td>13.635</td>\n",
              "      <td>80</td>\n",
              "      <td>0.0</td>\n",
              "      <td>5</td>\n",
              "      <td>27</td>\n",
              "      <td>32</td>\n",
              "    </tr>\n",
              "    <tr>\n",
              "      <th>3</th>\n",
              "      <td>2011-01-01 03:00:00</td>\n",
              "      <td>1</td>\n",
              "      <td>0</td>\n",
              "      <td>0</td>\n",
              "      <td>1</td>\n",
              "      <td>9.84</td>\n",
              "      <td>14.395</td>\n",
              "      <td>75</td>\n",
              "      <td>0.0</td>\n",
              "      <td>3</td>\n",
              "      <td>10</td>\n",
              "      <td>13</td>\n",
              "    </tr>\n",
              "    <tr>\n",
              "      <th>4</th>\n",
              "      <td>2011-01-01 04:00:00</td>\n",
              "      <td>1</td>\n",
              "      <td>0</td>\n",
              "      <td>0</td>\n",
              "      <td>1</td>\n",
              "      <td>9.84</td>\n",
              "      <td>14.395</td>\n",
              "      <td>75</td>\n",
              "      <td>0.0</td>\n",
              "      <td>0</td>\n",
              "      <td>1</td>\n",
              "      <td>1</td>\n",
              "    </tr>\n",
              "  </tbody>\n",
              "</table>\n",
              "</div>"
            ],
            "text/plain": [
              "             datetime  season  holiday  workingday  weather  temp   atemp  \\\n",
              "0 2011-01-01 00:00:00       1        0           0        1  9.84  14.395   \n",
              "1 2011-01-01 01:00:00       1        0           0        1  9.02  13.635   \n",
              "2 2011-01-01 02:00:00       1        0           0        1  9.02  13.635   \n",
              "3 2011-01-01 03:00:00       1        0           0        1  9.84  14.395   \n",
              "4 2011-01-01 04:00:00       1        0           0        1  9.84  14.395   \n",
              "\n",
              "   humidity  windspeed  casual  registered  count  \n",
              "0        81        0.0       3          13     16  \n",
              "1        80        0.0       8          32     40  \n",
              "2        80        0.0       5          27     32  \n",
              "3        75        0.0       3          10     13  \n",
              "4        75        0.0       0           1      1  "
            ]
          },
          "metadata": {
            "tags": []
          },
          "execution_count": 4
        }
      ]
    },
    {
      "metadata": {
        "colab_type": "code",
        "id": "RpDVzVSo6_ux",
        "outputId": "e09a630c-257f-4d25-cff2-e285ae731b5f",
        "colab": {
          "base_uri": "https://localhost:8080/",
          "height": 335
        }
      },
      "cell_type": "code",
      "source": [
        "train.info()"
      ],
      "execution_count": 5,
      "outputs": [
        {
          "output_type": "stream",
          "text": [
            "<class 'pandas.core.frame.DataFrame'>\n",
            "RangeIndex: 10886 entries, 0 to 10885\n",
            "Data columns (total 12 columns):\n",
            "datetime      10886 non-null datetime64[ns]\n",
            "season        10886 non-null int64\n",
            "holiday       10886 non-null int64\n",
            "workingday    10886 non-null int64\n",
            "weather       10886 non-null int64\n",
            "temp          10886 non-null float64\n",
            "atemp         10886 non-null float64\n",
            "humidity      10886 non-null int64\n",
            "windspeed     10886 non-null float64\n",
            "casual        10886 non-null int64\n",
            "registered    10886 non-null int64\n",
            "count         10886 non-null int64\n",
            "dtypes: datetime64[ns](1), float64(3), int64(8)\n",
            "memory usage: 1020.6 KB\n"
          ],
          "name": "stdout"
        }
      ]
    },
    {
      "metadata": {
        "colab_type": "text",
        "id": "w9f22Ah36_u0"
      },
      "cell_type": "markdown",
      "source": [
        "## datetime 데이터 분해"
      ]
    },
    {
      "metadata": {
        "colab_type": "code",
        "id": "GMMzNEvZ6_u2",
        "outputId": "953034fc-9bd5-461d-e5de-3ff6d00a0389",
        "colab": {
          "base_uri": "https://localhost:8080/",
          "height": 202
        }
      },
      "cell_type": "code",
      "source": [
        "train[\"d-year\"] = train[\"datetime\"].dt.year\n",
        "train[\"d-month\"] = train[\"datetime\"].dt.month\n",
        "train[\"d-day\"] = train[\"datetime\"].dt.day\n",
        "train[\"d-hour\"] = train[\"datetime\"].dt.hour\n",
        "train[\"d-minute\"] = train[\"datetime\"].dt.minute\n",
        "train[\"d-second\"] = train[\"datetime\"].dt.second\n",
        "\n",
        "train[[\"datetime\", \"d-year\", \"d-month\", \"d-day\", \"d-hour\", \"d-minute\", \"d-second\"]].head()"
      ],
      "execution_count": 6,
      "outputs": [
        {
          "output_type": "execute_result",
          "data": {
            "text/html": [
              "<div>\n",
              "<style scoped>\n",
              "    .dataframe tbody tr th:only-of-type {\n",
              "        vertical-align: middle;\n",
              "    }\n",
              "\n",
              "    .dataframe tbody tr th {\n",
              "        vertical-align: top;\n",
              "    }\n",
              "\n",
              "    .dataframe thead th {\n",
              "        text-align: right;\n",
              "    }\n",
              "</style>\n",
              "<table border=\"1\" class=\"dataframe\">\n",
              "  <thead>\n",
              "    <tr style=\"text-align: right;\">\n",
              "      <th></th>\n",
              "      <th>datetime</th>\n",
              "      <th>d-year</th>\n",
              "      <th>d-month</th>\n",
              "      <th>d-day</th>\n",
              "      <th>d-hour</th>\n",
              "      <th>d-minute</th>\n",
              "      <th>d-second</th>\n",
              "    </tr>\n",
              "  </thead>\n",
              "  <tbody>\n",
              "    <tr>\n",
              "      <th>0</th>\n",
              "      <td>2011-01-01 00:00:00</td>\n",
              "      <td>2011</td>\n",
              "      <td>1</td>\n",
              "      <td>1</td>\n",
              "      <td>0</td>\n",
              "      <td>0</td>\n",
              "      <td>0</td>\n",
              "    </tr>\n",
              "    <tr>\n",
              "      <th>1</th>\n",
              "      <td>2011-01-01 01:00:00</td>\n",
              "      <td>2011</td>\n",
              "      <td>1</td>\n",
              "      <td>1</td>\n",
              "      <td>1</td>\n",
              "      <td>0</td>\n",
              "      <td>0</td>\n",
              "    </tr>\n",
              "    <tr>\n",
              "      <th>2</th>\n",
              "      <td>2011-01-01 02:00:00</td>\n",
              "      <td>2011</td>\n",
              "      <td>1</td>\n",
              "      <td>1</td>\n",
              "      <td>2</td>\n",
              "      <td>0</td>\n",
              "      <td>0</td>\n",
              "    </tr>\n",
              "    <tr>\n",
              "      <th>3</th>\n",
              "      <td>2011-01-01 03:00:00</td>\n",
              "      <td>2011</td>\n",
              "      <td>1</td>\n",
              "      <td>1</td>\n",
              "      <td>3</td>\n",
              "      <td>0</td>\n",
              "      <td>0</td>\n",
              "    </tr>\n",
              "    <tr>\n",
              "      <th>4</th>\n",
              "      <td>2011-01-01 04:00:00</td>\n",
              "      <td>2011</td>\n",
              "      <td>1</td>\n",
              "      <td>1</td>\n",
              "      <td>4</td>\n",
              "      <td>0</td>\n",
              "      <td>0</td>\n",
              "    </tr>\n",
              "  </tbody>\n",
              "</table>\n",
              "</div>"
            ],
            "text/plain": [
              "             datetime  d-year  d-month  d-day  d-hour  d-minute  d-second\n",
              "0 2011-01-01 00:00:00    2011        1      1       0         0         0\n",
              "1 2011-01-01 01:00:00    2011        1      1       1         0         0\n",
              "2 2011-01-01 02:00:00    2011        1      1       2         0         0\n",
              "3 2011-01-01 03:00:00    2011        1      1       3         0         0\n",
              "4 2011-01-01 04:00:00    2011        1      1       4         0         0"
            ]
          },
          "metadata": {
            "tags": []
          },
          "execution_count": 6
        }
      ]
    },
    {
      "metadata": {
        "colab_type": "code",
        "id": "-7aRyOMs6_u6",
        "outputId": "935c69e3-67d6-493d-a5fe-0d9af476d693",
        "scrolled": true,
        "colab": {
          "base_uri": "https://localhost:8080/",
          "height": 465
        }
      },
      "cell_type": "code",
      "source": [
        "figure, ((ax1, ax2), (ax3, ax4)) = plt.subplots(nrows=2, ncols=2)\n",
        "figure.set_size_inches(12, 6)\n",
        "\n",
        "sns.barplot(data=train, x=\"d-year\", y=\"count\", ax=ax1)\n",
        "sns.barplot(data=train, x=\"d-month\", y=\"count\", ax=ax2)\n",
        "sns.barplot(data=train, x=\"d-day\", y=\"count\", ax=ax3)\n",
        "sns.barplot(data=train, x=\"d-hour\", y=\"count\", ax=ax4)"
      ],
      "execution_count": 7,
      "outputs": [
        {
          "output_type": "stream",
          "text": [
            "/usr/local/lib/python3.6/dist-packages/seaborn/categorical.py:1428: FutureWarning: remove_na is deprecated and is a private function. Do not use.\n",
            "  stat_data = remove_na(group_data)\n"
          ],
          "name": "stderr"
        },
        {
          "output_type": "execute_result",
          "data": {
            "text/plain": [
              "<matplotlib.axes._subplots.AxesSubplot at 0x7f4c47c1a710>"
            ]
          },
          "metadata": {
            "tags": []
          },
          "execution_count": 7
        },
        {
          "output_type": "display_data",
          "data": {
            "image/png": "[encoded data removed]",
            "text/plain": [
              "<Figure size 864x432 with 4 Axes>"
            ]
          },
          "metadata": {
            "tags": []
          }
        }
      ]
    },
    {
      "metadata": {
        "colab_type": "text",
        "id": "VkaLS0mH6_u9"
      },
      "cell_type": "markdown",
      "source": [
        "## 시간대별 평균 대여수 (주중, 주말 구분)"
      ]
    },
    {
      "metadata": {
        "colab_type": "code",
        "id": "YSlHZAMd6_u-",
        "outputId": "277588f9-676b-4ac0-f310-88cd9df33256",
        "colab": {
          "base_uri": "https://localhost:8080/",
          "height": 355
        }
      },
      "cell_type": "code",
      "source": [
        "plt.figure(figsize=(12,4))\n",
        "sns.pointplot(data=train, x=\"d-hour\", y=\"count\", hue=\"workingday\")"
      ],
      "execution_count": 8,
      "outputs": [
        {
          "output_type": "stream",
          "text": [
            "/usr/local/lib/python3.6/dist-packages/seaborn/categorical.py:1468: FutureWarning: remove_na is deprecated and is a private function. Do not use.\n",
            "  stat_data = remove_na(group_data[hue_mask])\n"
          ],
          "name": "stderr"
        },
        {
          "output_type": "execute_result",
          "data": {
            "text/plain": [
              "<matplotlib.axes._subplots.AxesSubplot at 0x7f4c483d5518>"
            ]
          },
          "metadata": {
            "tags": []
          },
          "execution_count": 8
        },
        {
          "output_type": "display_data",
          "data": {
            "image/png": "[encoded data removed]",
            "text/plain": [
              "<Figure size 864x288 with 1 Axes>"
            ]
          },
          "metadata": {
            "tags": []
          }
        }
      ]
    },
    {
      "metadata": {
        "colab_type": "text",
        "id": "SVydGWER6_vB"
      },
      "cell_type": "markdown",
      "source": [
        "## 시간대별 대여수 - 요일 구분"
      ]
    },
    {
      "metadata": {
        "colab_type": "code",
        "id": "d7PJftHE6_vC",
        "outputId": "ae9bc6a0-65f1-43ad-f1bf-c2068613df84",
        "colab": {
          "base_uri": "https://localhost:8080/",
          "height": 221
        }
      },
      "cell_type": "code",
      "source": [
        "train[\"d-dayofweek\"] = train[\"datetime\"].dt.dayofweek\n",
        "\n",
        "print(train.shape)\n",
        "train[[\"datetime\", \"d-dayofweek\"]].head()"
      ],
      "execution_count": 9,
      "outputs": [
        {
          "output_type": "stream",
          "text": [
            "(10886, 19)\n"
          ],
          "name": "stdout"
        },
        {
          "output_type": "execute_result",
          "data": {
            "text/html": [
              "<div>\n",
              "<style scoped>\n",
              "    .dataframe tbody tr th:only-of-type {\n",
              "        vertical-align: middle;\n",
              "    }\n",
              "\n",
              "    .dataframe tbody tr th {\n",
              "        vertical-align: top;\n",
              "    }\n",
              "\n",
              "    .dataframe thead th {\n",
              "        text-align: right;\n",
              "    }\n",
              "</style>\n",
              "<table border=\"1\" class=\"dataframe\">\n",
              "  <thead>\n",
              "    <tr style=\"text-align: right;\">\n",
              "      <th></th>\n",
              "      <th>datetime</th>\n",
              "      <th>d-dayofweek</th>\n",
              "    </tr>\n",
              "  </thead>\n",
              "  <tbody>\n",
              "    <tr>\n",
              "      <th>0</th>\n",
              "      <td>2011-01-01 00:00:00</td>\n",
              "      <td>5</td>\n",
              "    </tr>\n",
              "    <tr>\n",
              "      <th>1</th>\n",
              "      <td>2011-01-01 01:00:00</td>\n",
              "      <td>5</td>\n",
              "    </tr>\n",
              "    <tr>\n",
              "      <th>2</th>\n",
              "      <td>2011-01-01 02:00:00</td>\n",
              "      <td>5</td>\n",
              "    </tr>\n",
              "    <tr>\n",
              "      <th>3</th>\n",
              "      <td>2011-01-01 03:00:00</td>\n",
              "      <td>5</td>\n",
              "    </tr>\n",
              "    <tr>\n",
              "      <th>4</th>\n",
              "      <td>2011-01-01 04:00:00</td>\n",
              "      <td>5</td>\n",
              "    </tr>\n",
              "  </tbody>\n",
              "</table>\n",
              "</div>"
            ],
            "text/plain": [
              "             datetime  d-dayofweek\n",
              "0 2011-01-01 00:00:00            5\n",
              "1 2011-01-01 01:00:00            5\n",
              "2 2011-01-01 02:00:00            5\n",
              "3 2011-01-01 03:00:00            5\n",
              "4 2011-01-01 04:00:00            5"
            ]
          },
          "metadata": {
            "tags": []
          },
          "execution_count": 9
        }
      ]
    },
    {
      "metadata": {
        "colab_type": "code",
        "id": "U7Mmk7j-6_vF",
        "outputId": "fa1585c8-2b2e-48a9-e808-58db77681480",
        "colab": {
          "base_uri": "https://localhost:8080/",
          "height": 553
        }
      },
      "cell_type": "code",
      "source": [
        "figure, (ax1, ax2) = plt.subplots(nrows=2, ncols=1)\n",
        "figure.set_size_inches(18, 8)\n",
        "\n",
        "sns.pointplot(data=train, x=\"d-hour\", y=\"count\", hue=\"workingday\", ax=ax1)\n",
        "sns.pointplot(data=train, x=\"d-hour\", y=\"count\", hue=\"d-dayofweek\", ax=ax2)"
      ],
      "execution_count": 10,
      "outputs": [
        {
          "output_type": "stream",
          "text": [
            "/usr/local/lib/python3.6/dist-packages/seaborn/categorical.py:1468: FutureWarning: remove_na is deprecated and is a private function. Do not use.\n",
            "  stat_data = remove_na(group_data[hue_mask])\n"
          ],
          "name": "stderr"
        },
        {
          "output_type": "execute_result",
          "data": {
            "text/plain": [
              "<matplotlib.axes._subplots.AxesSubplot at 0x7f4c45837198>"
            ]
          },
          "metadata": {
            "tags": []
          },
          "execution_count": 10
        },
        {
          "output_type": "display_data",
          "data": {
            "image/png": "[encoded data removed]",
            "text/plain": [
              "<Figure size 1296x576 with 2 Axes>"
            ]
          },
          "metadata": {
            "tags": []
          }
        }
      ]
    },
    {
      "metadata": {
        "colab_type": "text",
        "id": "ygGV3bOS6_vI"
      },
      "cell_type": "markdown",
      "source": [
        "## 연도와 월을 합한 특성 변수 생성"
      ]
    },
    {
      "metadata": {
        "colab_type": "code",
        "id": "QDR3zmN96_vJ",
        "outputId": "ee060eee-5ab1-4ab3-8f85-d26e77db037f",
        "colab": {
          "base_uri": "https://localhost:8080/",
          "height": 221
        }
      },
      "cell_type": "code",
      "source": [
        "def concatenate_year_month(datetime):\n",
        "    return \"{0}-{1}\".format(datetime.year, datetime.month)\n",
        "\n",
        "train[\"d-year_month\"] = train[\"datetime\"].apply(concatenate_year_month)\n",
        "\n",
        "print(train.shape)\n",
        "train[[\"datetime\", \"d-year_month\"]].head()"
      ],
      "execution_count": 11,
      "outputs": [
        {
          "output_type": "stream",
          "text": [
            "(10886, 20)\n"
          ],
          "name": "stdout"
        },
        {
          "output_type": "execute_result",
          "data": {
            "text/html": [
              "<div>\n",
              "<style scoped>\n",
              "    .dataframe tbody tr th:only-of-type {\n",
              "        vertical-align: middle;\n",
              "    }\n",
              "\n",
              "    .dataframe tbody tr th {\n",
              "        vertical-align: top;\n",
              "    }\n",
              "\n",
              "    .dataframe thead th {\n",
              "        text-align: right;\n",
              "    }\n",
              "</style>\n",
              "<table border=\"1\" class=\"dataframe\">\n",
              "  <thead>\n",
              "    <tr style=\"text-align: right;\">\n",
              "      <th></th>\n",
              "      <th>datetime</th>\n",
              "      <th>d-year_month</th>\n",
              "    </tr>\n",
              "  </thead>\n",
              "  <tbody>\n",
              "    <tr>\n",
              "      <th>0</th>\n",
              "      <td>2011-01-01 00:00:00</td>\n",
              "      <td>2011-1</td>\n",
              "    </tr>\n",
              "    <tr>\n",
              "      <th>1</th>\n",
              "      <td>2011-01-01 01:00:00</td>\n",
              "      <td>2011-1</td>\n",
              "    </tr>\n",
              "    <tr>\n",
              "      <th>2</th>\n",
              "      <td>2011-01-01 02:00:00</td>\n",
              "      <td>2011-1</td>\n",
              "    </tr>\n",
              "    <tr>\n",
              "      <th>3</th>\n",
              "      <td>2011-01-01 03:00:00</td>\n",
              "      <td>2011-1</td>\n",
              "    </tr>\n",
              "    <tr>\n",
              "      <th>4</th>\n",
              "      <td>2011-01-01 04:00:00</td>\n",
              "      <td>2011-1</td>\n",
              "    </tr>\n",
              "  </tbody>\n",
              "</table>\n",
              "</div>"
            ],
            "text/plain": [
              "             datetime d-year_month\n",
              "0 2011-01-01 00:00:00       2011-1\n",
              "1 2011-01-01 01:00:00       2011-1\n",
              "2 2011-01-01 02:00:00       2011-1\n",
              "3 2011-01-01 03:00:00       2011-1\n",
              "4 2011-01-01 04:00:00       2011-1"
            ]
          },
          "metadata": {
            "tags": []
          },
          "execution_count": 11
        }
      ]
    },
    {
      "metadata": {
        "colab_type": "code",
        "id": "3ykQv12B6_vN",
        "outputId": "0fbfcf66-2abe-4fee-e9fc-91662cdd5c80",
        "scrolled": false,
        "colab": {
          "base_uri": "https://localhost:8080/",
          "height": 597
        }
      },
      "cell_type": "code",
      "source": [
        "figure, (ax1, ax2) = plt.subplots(nrows=1, ncols=2)\n",
        "figure.set_size_inches(18, 4)\n",
        "\n",
        "sns.barplot(data=train, x=\"d-year\", y=\"count\", ax=ax1)\n",
        "sns.barplot(data=train, x=\"d-month\", y=\"count\", ax=ax2)\n",
        "\n",
        "figure, ax3 = plt.subplots(nrows=1, ncols=1)\n",
        "figure.set_size_inches(18, 4)\n",
        "\n",
        "sns.barplot(data=train, x=\"d-year_month\", y=\"count\", ax=ax3)"
      ],
      "execution_count": 12,
      "outputs": [
        {
          "output_type": "stream",
          "text": [
            "/usr/local/lib/python3.6/dist-packages/seaborn/categorical.py:1428: FutureWarning: remove_na is deprecated and is a private function. Do not use.\n",
            "  stat_data = remove_na(group_data)\n"
          ],
          "name": "stderr"
        },
        {
          "output_type": "execute_result",
          "data": {
            "text/plain": [
              "<matplotlib.axes._subplots.AxesSubplot at 0x7f4c454bba20>"
            ]
          },
          "metadata": {
            "tags": []
          },
          "execution_count": 12
        },
        {
          "output_type": "display_data",
          "data": {
            "image/png": "[encoded data removed]",
            "text/plain": [
              "<Figure size 1296x288 with 2 Axes>"
            ]
          },
          "metadata": {
            "tags": []
          }
        },
        {
          "output_type": "display_data",
          "data": {
            "image/png": "[encoded data removed]",
            "text/plain": [
              "<Figure size 1296x288 with 1 Axes>"
            ]
          },
          "metadata": {
            "tags": []
          }
        }
      ]
    },
    {
      "metadata": {
        "colab_type": "text",
        "id": "Ty7wbQ0L6_vS"
      },
      "cell_type": "markdown",
      "source": [
        "## 훈련에 사용할 특성 선택"
      ]
    },
    {
      "metadata": {
        "colab_type": "code",
        "id": "2JZAxjE56_vT",
        "outputId": "3b378b0e-703a-4610-ae81-c8defee699e6",
        "colab": {
          "base_uri": "https://localhost:8080/",
          "height": 111
        }
      },
      "cell_type": "code",
      "source": [
        "train.columns"
      ],
      "execution_count": 13,
      "outputs": [
        {
          "output_type": "execute_result",
          "data": {
            "text/plain": [
              "Index(['datetime', 'season', 'holiday', 'workingday', 'weather', 'temp',\n",
              "       'atemp', 'humidity', 'windspeed', 'casual', 'registered', 'count',\n",
              "       'd-year', 'd-month', 'd-day', 'd-hour', 'd-minute', 'd-second',\n",
              "       'd-dayofweek', 'd-year_month'],\n",
              "      dtype='object')"
            ]
          },
          "metadata": {
            "tags": []
          },
          "execution_count": 13
        }
      ]
    },
    {
      "metadata": {
        "colab_type": "code",
        "id": "wzKGw40W6_vX",
        "colab": {}
      },
      "cell_type": "code",
      "source": [
        "features = [\"season\", \"holiday\", \"workingday\", \"weather\",\n",
        "                 \"temp\", \"atemp\", \"humidity\", \"windspeed\",\n",
        "                 \"d-year\", \"d-hour\", \"d-dayofweek\"] # 'casual', 'registered', 'count' 목적변수"
      ],
      "execution_count": 0,
      "outputs": []
    },
    {
      "metadata": {
        "colab_type": "code",
        "id": "QoSBlvzZ6_vb",
        "outputId": "0e499ff4-9d16-4c3b-85db-43db0f64bf0a",
        "colab": {
          "base_uri": "https://localhost:8080/",
          "height": 221
        }
      },
      "cell_type": "code",
      "source": [
        "X = train[features]\n",
        "print(X.shape)\n",
        "X.head()"
      ],
      "execution_count": 15,
      "outputs": [
        {
          "output_type": "stream",
          "text": [
            "(10886, 11)\n"
          ],
          "name": "stdout"
        },
        {
          "output_type": "execute_result",
          "data": {
            "text/html": [
              "<div>\n",
              "<style scoped>\n",
              "    .dataframe tbody tr th:only-of-type {\n",
              "        vertical-align: middle;\n",
              "    }\n",
              "\n",
              "    .dataframe tbody tr th {\n",
              "        vertical-align: top;\n",
              "    }\n",
              "\n",
              "    .dataframe thead th {\n",
              "        text-align: right;\n",
              "    }\n",
              "</style>\n",
              "<table border=\"1\" class=\"dataframe\">\n",
              "  <thead>\n",
              "    <tr style=\"text-align: right;\">\n",
              "      <th></th>\n",
              "      <th>season</th>\n",
              "      <th>holiday</th>\n",
              "      <th>workingday</th>\n",
              "      <th>weather</th>\n",
              "      <th>temp</th>\n",
              "      <th>atemp</th>\n",
              "      <th>humidity</th>\n",
              "      <th>windspeed</th>\n",
              "      <th>d-year</th>\n",
              "      <th>d-hour</th>\n",
              "      <th>d-dayofweek</th>\n",
              "    </tr>\n",
              "  </thead>\n",
              "  <tbody>\n",
              "    <tr>\n",
              "      <th>0</th>\n",
              "      <td>1</td>\n",
              "      <td>0</td>\n",
              "      <td>0</td>\n",
              "      <td>1</td>\n",
              "      <td>9.84</td>\n",
              "      <td>14.395</td>\n",
              "      <td>81</td>\n",
              "      <td>0.0</td>\n",
              "      <td>2011</td>\n",
              "      <td>0</td>\n",
              "      <td>5</td>\n",
              "    </tr>\n",
              "    <tr>\n",
              "      <th>1</th>\n",
              "      <td>1</td>\n",
              "      <td>0</td>\n",
              "      <td>0</td>\n",
              "      <td>1</td>\n",
              "      <td>9.02</td>\n",
              "      <td>13.635</td>\n",
              "      <td>80</td>\n",
              "      <td>0.0</td>\n",
              "      <td>2011</td>\n",
              "      <td>1</td>\n",
              "      <td>5</td>\n",
              "    </tr>\n",
              "    <tr>\n",
              "      <th>2</th>\n",
              "      <td>1</td>\n",
              "      <td>0</td>\n",
              "      <td>0</td>\n",
              "      <td>1</td>\n",
              "      <td>9.02</td>\n",
              "      <td>13.635</td>\n",
              "      <td>80</td>\n",
              "      <td>0.0</td>\n",
              "      <td>2011</td>\n",
              "      <td>2</td>\n",
              "      <td>5</td>\n",
              "    </tr>\n",
              "    <tr>\n",
              "      <th>3</th>\n",
              "      <td>1</td>\n",
              "      <td>0</td>\n",
              "      <td>0</td>\n",
              "      <td>1</td>\n",
              "      <td>9.84</td>\n",
              "      <td>14.395</td>\n",
              "      <td>75</td>\n",
              "      <td>0.0</td>\n",
              "      <td>2011</td>\n",
              "      <td>3</td>\n",
              "      <td>5</td>\n",
              "    </tr>\n",
              "    <tr>\n",
              "      <th>4</th>\n",
              "      <td>1</td>\n",
              "      <td>0</td>\n",
              "      <td>0</td>\n",
              "      <td>1</td>\n",
              "      <td>9.84</td>\n",
              "      <td>14.395</td>\n",
              "      <td>75</td>\n",
              "      <td>0.0</td>\n",
              "      <td>2011</td>\n",
              "      <td>4</td>\n",
              "      <td>5</td>\n",
              "    </tr>\n",
              "  </tbody>\n",
              "</table>\n",
              "</div>"
            ],
            "text/plain": [
              "   season  holiday  workingday  weather  temp   atemp  humidity  windspeed  \\\n",
              "0       1        0           0        1  9.84  14.395        81        0.0   \n",
              "1       1        0           0        1  9.02  13.635        80        0.0   \n",
              "2       1        0           0        1  9.02  13.635        80        0.0   \n",
              "3       1        0           0        1  9.84  14.395        75        0.0   \n",
              "4       1        0           0        1  9.84  14.395        75        0.0   \n",
              "\n",
              "   d-year  d-hour  d-dayofweek  \n",
              "0    2011       0            5  \n",
              "1    2011       1            5  \n",
              "2    2011       2            5  \n",
              "3    2011       3            5  \n",
              "4    2011       4            5  "
            ]
          },
          "metadata": {
            "tags": []
          },
          "execution_count": 15
        }
      ]
    },
    {
      "metadata": {
        "colab_type": "code",
        "id": "pBV4ysWe6_vf",
        "outputId": "791c505c-e5d3-4315-ecb3-59cee9b0fe0d",
        "colab": {
          "base_uri": "https://localhost:8080/",
          "height": 36
        }
      },
      "cell_type": "code",
      "source": [
        "y = train[\"count\"]\n",
        "print(y.shape)"
      ],
      "execution_count": 16,
      "outputs": [
        {
          "output_type": "stream",
          "text": [
            "(10886,)\n"
          ],
          "name": "stdout"
        }
      ]
    },
    {
      "metadata": {
        "id": "uTbzZ2yA26mp",
        "colab_type": "code",
        "colab": {
          "base_uri": "https://localhost:8080/",
          "height": 36
        },
        "outputId": "c7165d38-ebad-421f-e2ec-67c4f9ce83e9"
      },
      "cell_type": "code",
      "source": [
        "model = RandomForestRegressor(n_estimators= 300)\n",
        "model.fit(X_train, y_train)\n",
        "model.score(X_test, y_test)"
      ],
      "execution_count": 26,
      "outputs": [
        {
          "output_type": "execute_result",
          "data": {
            "text/plain": [
              "0.9490096177033809"
            ]
          },
          "metadata": {
            "tags": []
          },
          "execution_count": 26
        }
      ]
    },
    {
      "metadata": {
        "colab_type": "code",
        "id": "Ib0kFRjp6_vl",
        "outputId": "0db54c84-4b55-4160-9032-590b60275c94",
        "colab": {
          "base_uri": "https://localhost:8080/",
          "height": 223
        }
      },
      "cell_type": "code",
      "source": [
        "import numpy as np\n",
        "y_log = np.log(y + 1) # +1은 log(0) 무한대를 막기위해 오류차단\n",
        "\n",
        "print(y_log.shape)\n",
        "#y_log.head()\n",
        "list(zip(y,y_log))[:10]"
      ],
      "execution_count": 36,
      "outputs": [
        {
          "output_type": "stream",
          "text": [
            "(10886,)\n"
          ],
          "name": "stdout"
        },
        {
          "output_type": "execute_result",
          "data": {
            "text/plain": [
              "[(16, 2.833213344056216),\n",
              " (40, 3.713572066704308),\n",
              " (32, 3.4965075614664802),\n",
              " (13, 2.6390573296152584),\n",
              " (1, 0.6931471805599453),\n",
              " (1, 0.6931471805599453),\n",
              " (2, 1.0986122886681098),\n",
              " (3, 1.3862943611198906),\n",
              " (8, 2.1972245773362196),\n",
              " (14, 2.70805020110221)]"
            ]
          },
          "metadata": {
            "tags": []
          },
          "execution_count": 36
        }
      ]
    },
    {
      "metadata": {
        "colab_type": "text",
        "id": "lDY_6y7p6_vs"
      },
      "cell_type": "markdown",
      "source": [
        "## 간단한 예측 모델"
      ]
    },
    {
      "metadata": {
        "colab_type": "code",
        "id": "QUjiGWgC6_vz",
        "colab": {}
      },
      "cell_type": "code",
      "source": [
        "np.random.seed(11)\n",
        "X_train, X_test, y_train, y_test = train_test_split(X, y_log, test_size = 0.2)"
      ],
      "execution_count": 0,
      "outputs": []
    },
    {
      "metadata": {
        "colab_type": "code",
        "id": "SFN3S-Oe6_v2",
        "outputId": "d91216ae-1387-4b95-d5f5-a82b344f3639",
        "colab": {
          "base_uri": "https://localhost:8080/",
          "height": 36
        }
      },
      "cell_type": "code",
      "source": [
        "model = RandomForestRegressor(n_estimators= 30)\n",
        "model.fit(X_train, y_train)\n",
        "model.score(X_test, y_test)"
      ],
      "execution_count": 38,
      "outputs": [
        {
          "output_type": "execute_result",
          "data": {
            "text/plain": [
              "0.9580883210969734"
            ]
          },
          "metadata": {
            "tags": []
          },
          "execution_count": 38
        }
      ]
    },
    {
      "metadata": {
        "colab_type": "code",
        "id": "gv2k__Dh6_v6",
        "outputId": "01b022b0-26f6-4d6c-e966-829fce5e1a84",
        "scrolled": true,
        "colab": {
          "base_uri": "https://localhost:8080/",
          "height": 204
        }
      },
      "cell_type": "code",
      "source": [
        "list(zip(y_test, model.predict(X_test)))[:10]"
      ],
      "execution_count": 39,
      "outputs": [
        {
          "output_type": "execute_result",
          "data": {
            "text/plain": [
              "[(1.9459101490553132, 2.0403146519508772),\n",
              " (3.7612001156935624, 3.7669927593559467),\n",
              " (6.415096959171596, 6.302535786676932),\n",
              " (2.833213344056216, 2.824032746730312),\n",
              " (4.2626798770413155, 4.443539522423507),\n",
              " (2.70805020110221, 3.2117684044501233),\n",
              " (6.030685260261263, 5.914215047904423),\n",
              " (5.4510384535657, 5.41472429655433),\n",
              " (5.472270673671475, 5.697741213725065),\n",
              " (5.673323267171493, 5.595541299114385)]"
            ]
          },
          "metadata": {
            "tags": []
          },
          "execution_count": 39
        }
      ]
    },
    {
      "metadata": {
        "colab_type": "code",
        "id": "JXk1pJyW6_v9",
        "outputId": "8cad6c6b-8b46-4828-ebdc-079e71a99c99",
        "colab": {
          "base_uri": "https://localhost:8080/",
          "height": 202
        }
      },
      "cell_type": "code",
      "source": [
        "X_train[:5]"
      ],
      "execution_count": 40,
      "outputs": [
        {
          "output_type": "execute_result",
          "data": {
            "text/html": [
              "<div>\n",
              "<style scoped>\n",
              "    .dataframe tbody tr th:only-of-type {\n",
              "        vertical-align: middle;\n",
              "    }\n",
              "\n",
              "    .dataframe tbody tr th {\n",
              "        vertical-align: top;\n",
              "    }\n",
              "\n",
              "    .dataframe thead th {\n",
              "        text-align: right;\n",
              "    }\n",
              "</style>\n",
              "<table border=\"1\" class=\"dataframe\">\n",
              "  <thead>\n",
              "    <tr style=\"text-align: right;\">\n",
              "      <th></th>\n",
              "      <th>season</th>\n",
              "      <th>holiday</th>\n",
              "      <th>workingday</th>\n",
              "      <th>weather</th>\n",
              "      <th>temp</th>\n",
              "      <th>atemp</th>\n",
              "      <th>humidity</th>\n",
              "      <th>windspeed</th>\n",
              "      <th>d-year</th>\n",
              "      <th>d-hour</th>\n",
              "      <th>d-dayofweek</th>\n",
              "    </tr>\n",
              "  </thead>\n",
              "  <tbody>\n",
              "    <tr>\n",
              "      <th>7560</th>\n",
              "      <td>2</td>\n",
              "      <td>0</td>\n",
              "      <td>1</td>\n",
              "      <td>3</td>\n",
              "      <td>22.14</td>\n",
              "      <td>25.760</td>\n",
              "      <td>88</td>\n",
              "      <td>19.0012</td>\n",
              "      <td>2012</td>\n",
              "      <td>9</td>\n",
              "      <td>0</td>\n",
              "    </tr>\n",
              "    <tr>\n",
              "      <th>8090</th>\n",
              "      <td>2</td>\n",
              "      <td>0</td>\n",
              "      <td>0</td>\n",
              "      <td>1</td>\n",
              "      <td>25.42</td>\n",
              "      <td>31.060</td>\n",
              "      <td>57</td>\n",
              "      <td>7.0015</td>\n",
              "      <td>2012</td>\n",
              "      <td>11</td>\n",
              "      <td>6</td>\n",
              "    </tr>\n",
              "    <tr>\n",
              "      <th>30</th>\n",
              "      <td>1</td>\n",
              "      <td>0</td>\n",
              "      <td>0</td>\n",
              "      <td>2</td>\n",
              "      <td>16.40</td>\n",
              "      <td>20.455</td>\n",
              "      <td>76</td>\n",
              "      <td>12.9980</td>\n",
              "      <td>2011</td>\n",
              "      <td>7</td>\n",
              "      <td>6</td>\n",
              "    </tr>\n",
              "    <tr>\n",
              "      <th>7290</th>\n",
              "      <td>2</td>\n",
              "      <td>0</td>\n",
              "      <td>1</td>\n",
              "      <td>2</td>\n",
              "      <td>18.86</td>\n",
              "      <td>22.725</td>\n",
              "      <td>88</td>\n",
              "      <td>0.0000</td>\n",
              "      <td>2012</td>\n",
              "      <td>3</td>\n",
              "      <td>3</td>\n",
              "    </tr>\n",
              "    <tr>\n",
              "      <th>8665</th>\n",
              "      <td>3</td>\n",
              "      <td>0</td>\n",
              "      <td>1</td>\n",
              "      <td>2</td>\n",
              "      <td>32.80</td>\n",
              "      <td>37.120</td>\n",
              "      <td>52</td>\n",
              "      <td>12.9980</td>\n",
              "      <td>2012</td>\n",
              "      <td>10</td>\n",
              "      <td>4</td>\n",
              "    </tr>\n",
              "  </tbody>\n",
              "</table>\n",
              "</div>"
            ],
            "text/plain": [
              "      season  holiday  workingday  weather   temp   atemp  humidity  \\\n",
              "7560       2        0           1        3  22.14  25.760        88   \n",
              "8090       2        0           0        1  25.42  31.060        57   \n",
              "30         1        0           0        2  16.40  20.455        76   \n",
              "7290       2        0           1        2  18.86  22.725        88   \n",
              "8665       3        0           1        2  32.80  37.120        52   \n",
              "\n",
              "      windspeed  d-year  d-hour  d-dayofweek  \n",
              "7560    19.0012    2012       9            0  \n",
              "8090     7.0015    2012      11            6  \n",
              "30      12.9980    2011       7            6  \n",
              "7290     0.0000    2012       3            3  \n",
              "8665    12.9980    2012      10            4  "
            ]
          },
          "metadata": {
            "tags": []
          },
          "execution_count": 40
        }
      ]
    },
    {
      "metadata": {
        "colab_type": "text",
        "id": "rYV_3yZW6_wA"
      },
      "cell_type": "markdown",
      "source": [
        "## 선형회귀"
      ]
    },
    {
      "metadata": {
        "colab_type": "code",
        "id": "RSrOtZyJ6_wB",
        "outputId": "d9de4a4f-e954-41b7-90d8-f852108a8d89",
        "colab": {
          "base_uri": "https://localhost:8080/",
          "height": 36
        }
      },
      "cell_type": "code",
      "source": [
        "model = LinearRegression()\n",
        "model.fit(X_train, y_train)\n",
        "model.score(X_test, y_test)"
      ],
      "execution_count": 31,
      "outputs": [
        {
          "output_type": "execute_result",
          "data": {
            "text/plain": [
              "0.37561934247883577"
            ]
          },
          "metadata": {
            "tags": []
          },
          "execution_count": 31
        }
      ]
    },
    {
      "metadata": {
        "colab_type": "code",
        "id": "YngvuL3s6_wE",
        "outputId": "7fe1f490-dde4-48a2-c58c-b2238f045df0",
        "colab": {
          "base_uri": "https://localhost:8080/",
          "height": 36
        }
      },
      "cell_type": "code",
      "source": [
        "model = DecisionTreeRegressor()\n",
        "model.fit(X_train, y_train)\n",
        "model.score(X_test, y_test)"
      ],
      "execution_count": 32,
      "outputs": [
        {
          "output_type": "execute_result",
          "data": {
            "text/plain": [
              "0.9031443487303448"
            ]
          },
          "metadata": {
            "tags": []
          },
          "execution_count": 32
        }
      ]
    },
    {
      "metadata": {
        "colab_type": "text",
        "id": "Yzq_C7NE6_wI"
      },
      "cell_type": "markdown",
      "source": [
        "## 성능 지표( score) 함수 변경"
      ]
    },
    {
      "metadata": {
        "colab_type": "code",
        "id": "e0kRQgIC6_wK",
        "outputId": "1264f357-c17c-42f0-b532-401444aefa20",
        "colab": {
          "base_uri": "https://localhost:8080/",
          "height": 36
        }
      },
      "cell_type": "code",
      "source": [
        "def rmsle(predict, actual):\n",
        "    predict = np.array(predict)\n",
        "    actual = np.array(actual)\n",
        "    \n",
        "    log_predict = predict + 1\n",
        "    log_actual = actual + 1\n",
        "    \n",
        "    difference = log_predict - log_actual\n",
        "    difference = np.square(difference)\n",
        "    \n",
        "    mean_difference = difference.mean()    \n",
        "    score = np.sqrt(mean_difference)\n",
        "    return score\n",
        "\n",
        "rmsle_scorer = make_scorer(rmsle)\n",
        "rmsle_scorer"
      ],
      "execution_count": 41,
      "outputs": [
        {
          "output_type": "execute_result",
          "data": {
            "text/plain": [
              "make_scorer(rmsle)"
            ]
          },
          "metadata": {
            "tags": []
          },
          "execution_count": 41
        }
      ]
    },
    {
      "metadata": {
        "colab_type": "text",
        "id": "jb9NOYEZ6_wN"
      },
      "cell_type": "markdown",
      "source": [
        "## 하이퍼파라미터 선택"
      ]
    },
    {
      "metadata": {
        "colab_type": "text",
        "id": "KiEphT7a6_wN"
      },
      "cell_type": "markdown",
      "source": [
        "### 그리드 탐색"
      ]
    },
    {
      "metadata": {
        "colab_type": "code",
        "id": "Najht9c66_wP",
        "outputId": "fad6c141-83b3-4c31-a4f3-f8857a5dc79d",
        "colab": {
          "base_uri": "https://localhost:8080/",
          "height": 857
        }
      },
      "cell_type": "code",
      "source": [
        "n_estimators = 300\n",
        "\n",
        "max_depth_list = [15, 20, 25]\n",
        "max_features_list = [0.7, 0.8, 0.9]\n",
        "\n",
        "hyperparameters_list = []\n",
        "\n",
        "for max_depth in max_depth_list:\n",
        "    for max_features in max_features_list:\n",
        "        model = RandomForestRegressor(n_estimators=n_estimators,\n",
        "                                      max_depth=max_depth, # 중요한 질문개수\n",
        "                                      max_features=max_features,\n",
        "                                      random_state=11,\n",
        "                                      n_jobs=-1) # 하이퍼파라미터 # n_jobs=-1 주어진 CPU를 다 활용\n",
        "\n",
        "        score = cross_val_score(model, X_train, y_train, cv=5, #5번을 순차를 바꿔가면서 평균\n",
        "                                scoring=rmsle_scorer).mean() #하이퍼파라미터 튜닝(train data), test data를 쓰면 안됨\n",
        "# scoring=rmsle_scorer score가 작을수록 좋음\n",
        "        hyperparameters_list.append({\n",
        "            'score': score,\n",
        "            'n_estimators': n_estimators,\n",
        "            'max_depth': max_depth,\n",
        "            'max_features': max_features,\n",
        "        })\n",
        "\n",
        "        print(\"Score = {0:.5f}\".format(score))\n",
        "\n",
        "hyperparameters_list"
      ],
      "execution_count": 49,
      "outputs": [
        {
          "output_type": "stream",
          "text": [
            "Score = 0.32394\n",
            "Score = 0.32073\n",
            "Score = 0.31958\n",
            "Score = 0.32081\n",
            "Score = 0.31963\n",
            "Score = 0.31867\n",
            "Score = 0.32195\n",
            "Score = 0.31930\n",
            "Score = 0.31844\n"
          ],
          "name": "stdout"
        },
        {
          "output_type": "execute_result",
          "data": {
            "text/plain": [
              "[{'max_depth': 15,\n",
              "  'max_features': 0.7,\n",
              "  'n_estimators': 300,\n",
              "  'score': 0.3239385329421589},\n",
              " {'max_depth': 15,\n",
              "  'max_features': 0.8,\n",
              "  'n_estimators': 300,\n",
              "  'score': 0.32073076389823063},\n",
              " {'max_depth': 15,\n",
              "  'max_features': 0.9,\n",
              "  'n_estimators': 300,\n",
              "  'score': 0.31957846218824515},\n",
              " {'max_depth': 20,\n",
              "  'max_features': 0.7,\n",
              "  'n_estimators': 300,\n",
              "  'score': 0.3208132407192429},\n",
              " {'max_depth': 20,\n",
              "  'max_features': 0.8,\n",
              "  'n_estimators': 300,\n",
              "  'score': 0.319630271919978},\n",
              " {'max_depth': 20,\n",
              "  'max_features': 0.9,\n",
              "  'n_estimators': 300,\n",
              "  'score': 0.31867083158384196},\n",
              " {'max_depth': 25,\n",
              "  'max_features': 0.7,\n",
              "  'n_estimators': 300,\n",
              "  'score': 0.3219507733590163},\n",
              " {'max_depth': 25,\n",
              "  'max_features': 0.8,\n",
              "  'n_estimators': 300,\n",
              "  'score': 0.31929960474441005},\n",
              " {'max_depth': 25,\n",
              "  'max_features': 0.9,\n",
              "  'n_estimators': 300,\n",
              "  'score': 0.3184432640170755}]"
            ]
          },
          "metadata": {
            "tags": []
          },
          "execution_count": 49
        }
      ]
    },
    {
      "metadata": {
        "colab_type": "code",
        "id": "sjBMQWVl6_wS",
        "outputId": "68bf6684-03a1-4e6e-a0b1-c384973803fb",
        "colab": {
          "base_uri": "https://localhost:8080/",
          "height": 221
        }
      },
      "cell_type": "code",
      "source": [
        "hyperparameters_list = pd.DataFrame.from_dict(hyperparameters_list)\n",
        "hyperparameters_list = hyperparameters_list.sort_values(by=\"score\")\n",
        "\n",
        "print(hyperparameters_list.shape)\n",
        "hyperparameters_list.head()"
      ],
      "execution_count": 50,
      "outputs": [
        {
          "output_type": "stream",
          "text": [
            "(9, 4)\n"
          ],
          "name": "stdout"
        },
        {
          "output_type": "execute_result",
          "data": {
            "text/html": [
              "<div>\n",
              "<style scoped>\n",
              "    .dataframe tbody tr th:only-of-type {\n",
              "        vertical-align: middle;\n",
              "    }\n",
              "\n",
              "    .dataframe tbody tr th {\n",
              "        vertical-align: top;\n",
              "    }\n",
              "\n",
              "    .dataframe thead th {\n",
              "        text-align: right;\n",
              "    }\n",
              "</style>\n",
              "<table border=\"1\" class=\"dataframe\">\n",
              "  <thead>\n",
              "    <tr style=\"text-align: right;\">\n",
              "      <th></th>\n",
              "      <th>max_depth</th>\n",
              "      <th>max_features</th>\n",
              "      <th>n_estimators</th>\n",
              "      <th>score</th>\n",
              "    </tr>\n",
              "  </thead>\n",
              "  <tbody>\n",
              "    <tr>\n",
              "      <th>8</th>\n",
              "      <td>25</td>\n",
              "      <td>0.9</td>\n",
              "      <td>300</td>\n",
              "      <td>0.318443</td>\n",
              "    </tr>\n",
              "    <tr>\n",
              "      <th>5</th>\n",
              "      <td>20</td>\n",
              "      <td>0.9</td>\n",
              "      <td>300</td>\n",
              "      <td>0.318671</td>\n",
              "    </tr>\n",
              "    <tr>\n",
              "      <th>7</th>\n",
              "      <td>25</td>\n",
              "      <td>0.8</td>\n",
              "      <td>300</td>\n",
              "      <td>0.319300</td>\n",
              "    </tr>\n",
              "    <tr>\n",
              "      <th>2</th>\n",
              "      <td>15</td>\n",
              "      <td>0.9</td>\n",
              "      <td>300</td>\n",
              "      <td>0.319578</td>\n",
              "    </tr>\n",
              "    <tr>\n",
              "      <th>4</th>\n",
              "      <td>20</td>\n",
              "      <td>0.8</td>\n",
              "      <td>300</td>\n",
              "      <td>0.319630</td>\n",
              "    </tr>\n",
              "  </tbody>\n",
              "</table>\n",
              "</div>"
            ],
            "text/plain": [
              "   max_depth  max_features  n_estimators     score\n",
              "8         25           0.9           300  0.318443\n",
              "5         20           0.9           300  0.318671\n",
              "7         25           0.8           300  0.319300\n",
              "2         15           0.9           300  0.319578\n",
              "4         20           0.8           300  0.319630"
            ]
          },
          "metadata": {
            "tags": []
          },
          "execution_count": 50
        }
      ]
    },
    {
      "metadata": {
        "colab_type": "text",
        "id": "kk_u7Jql6_wU"
      },
      "cell_type": "markdown",
      "source": [
        "### 랜덤 탐색"
      ]
    },
    {
      "metadata": {
        "colab_type": "code",
        "id": "-FRpjDfX6_wV",
        "outputId": "5f6d25a5-a99c-4c41-fea9-56647784650c",
        "colab": {
          "base_uri": "https://localhost:8080/",
          "height": 370
        }
      },
      "cell_type": "code",
      "source": [
        "import numpy as np\n",
        "from sklearn.ensemble import RandomForestRegressor\n",
        "from sklearn.model_selection import cross_val_score\n",
        "\n",
        "hyperparameters_list = []\n",
        "\n",
        "n_estimators = 30\n",
        "num_epoch = 10\n",
        "\n",
        "for epoch in range(num_epoch):\n",
        "    max_depth = np.random.randint(low=2, high=100)\n",
        "    max_features = np.random.uniform(low=0.1, high=1.0)\n",
        "\n",
        "    model = RandomForestRegressor(n_estimators=n_estimators,\n",
        "                                  max_depth=max_depth,\n",
        "                                  max_features=max_features,\n",
        "                                  random_state=37,\n",
        "                                  n_jobs=-1)\n",
        "\n",
        "    score = cross_val_score(model, X_train, y_train, cv=5,\n",
        "                            scoring=rmsle_scorer).mean()\n",
        "\n",
        "    hyperparameters_list.append({\n",
        "        'score': score,\n",
        "        'n_estimators': n_estimators,\n",
        "        'max_depth': max_depth,\n",
        "        'max_features': max_features,\n",
        "    })\n",
        "\n",
        "    print(\"Score = {0:.5f}\".format(score))\n",
        "\n",
        "hyperparameters_list = pd.DataFrame.from_dict(hyperparameters_list)\n",
        "hyperparameters_list = hyperparameters_list.sort_values(by=\"score\")\n",
        "\n",
        "print(hyperparameters_list.shape)\n",
        "hyperparameters_list.head()"
      ],
      "execution_count": 0,
      "outputs": [
        {
          "output_type": "stream",
          "text": [
            "Score = 0.34672\n",
            "Score = 0.33773\n",
            "Score = 0.37829\n",
            "Score = 0.33773\n",
            "Score = 0.37829\n",
            "Score = 0.41470\n",
            "Score = 0.41436\n",
            "Score = 0.32621\n",
            "Score = 0.32621\n",
            "Score = 0.33063\n",
            "(10, 4)\n"
          ],
          "name": "stdout"
        },
        {
          "output_type": "execute_result",
          "data": {
            "text/html": [
              "<div>\n",
              "<style scoped>\n",
              "    .dataframe tbody tr th:only-of-type {\n",
              "        vertical-align: middle;\n",
              "    }\n",
              "\n",
              "    .dataframe tbody tr th {\n",
              "        vertical-align: top;\n",
              "    }\n",
              "\n",
              "    .dataframe thead th {\n",
              "        text-align: right;\n",
              "    }\n",
              "</style>\n",
              "<table border=\"1\" class=\"dataframe\">\n",
              "  <thead>\n",
              "    <tr style=\"text-align: right;\">\n",
              "      <th></th>\n",
              "      <th>max_depth</th>\n",
              "      <th>max_features</th>\n",
              "      <th>n_estimators</th>\n",
              "      <th>score</th>\n",
              "    </tr>\n",
              "  </thead>\n",
              "  <tbody>\n",
              "    <tr>\n",
              "      <th>7</th>\n",
              "      <td>94</td>\n",
              "      <td>0.793496</td>\n",
              "      <td>30</td>\n",
              "      <td>0.326207</td>\n",
              "    </tr>\n",
              "    <tr>\n",
              "      <th>8</th>\n",
              "      <td>67</td>\n",
              "      <td>0.753001</td>\n",
              "      <td>30</td>\n",
              "      <td>0.326207</td>\n",
              "    </tr>\n",
              "    <tr>\n",
              "      <th>9</th>\n",
              "      <td>31</td>\n",
              "      <td>0.725240</td>\n",
              "      <td>30</td>\n",
              "      <td>0.330631</td>\n",
              "    </tr>\n",
              "    <tr>\n",
              "      <th>1</th>\n",
              "      <td>54</td>\n",
              "      <td>0.557620</td>\n",
              "      <td>30</td>\n",
              "      <td>0.337729</td>\n",
              "    </tr>\n",
              "    <tr>\n",
              "      <th>3</th>\n",
              "      <td>47</td>\n",
              "      <td>0.600954</td>\n",
              "      <td>30</td>\n",
              "      <td>0.337729</td>\n",
              "    </tr>\n",
              "  </tbody>\n",
              "</table>\n",
              "</div>"
            ],
            "text/plain": [
              "   max_depth  max_features  n_estimators     score\n",
              "7         94      0.793496            30  0.326207\n",
              "8         67      0.753001            30  0.326207\n",
              "9         31      0.725240            30  0.330631\n",
              "1         54      0.557620            30  0.337729\n",
              "3         47      0.600954            30  0.337729"
            ]
          },
          "metadata": {
            "tags": []
          },
          "execution_count": 52
        }
      ]
    },
    {
      "metadata": {
        "colab_type": "text",
        "id": "n53c7WGT6_wZ"
      },
      "cell_type": "markdown",
      "source": [
        "### 상세 탐색"
      ]
    },
    {
      "metadata": {
        "colab_type": "code",
        "id": "PEB5_4xS6_wb",
        "outputId": "2a5a38f2-8757-43b3-d6f0-28295cb40b34",
        "colab": {
          "base_uri": "https://localhost:8080/",
          "height": 370
        }
      },
      "cell_type": "code",
      "source": [
        "import numpy as np\n",
        "from sklearn.ensemble import RandomForestRegressor\n",
        "from sklearn.model_selection import cross_val_score\n",
        "\n",
        "hyperparameters_list = []\n",
        "\n",
        "n_estimators = 10\n",
        "num_epoch = 10\n",
        "\n",
        "for epoch in range(num_epoch):\n",
        "    max_depth = np.random.randint(low=10, high=70)\n",
        "    max_features = np.random.uniform(low=0.4, high=1.0)\n",
        "\n",
        "    model = RandomForestRegressor(n_estimators=n_estimators,\n",
        "                                  max_depth=max_depth,\n",
        "                                  max_features=max_features,\n",
        "                                  random_state=37,\n",
        "                                  n_jobs=-1)\n",
        "\n",
        "    score = cross_val_score(model, X_train, y_train, cv=5,\n",
        "                            scoring=rmsle_scorer).mean()\n",
        "\n",
        "    hyperparameters_list.append({\n",
        "        'score': score,\n",
        "        'n_estimators': n_estimators,\n",
        "        'max_depth': max_depth,\n",
        "        'max_features': max_features,\n",
        "    })\n",
        "\n",
        "    print(\"Score = {0:.5f}\".format(score))\n",
        "\n",
        "hyperparameters_list = pd.DataFrame.from_dict(hyperparameters_list)\n",
        "hyperparameters_list = hyperparameters_list.sort_values(by=\"score\")\n",
        "\n",
        "print(hyperparameters_list.shape)\n",
        "hyperparameters_list.head()"
      ],
      "execution_count": 0,
      "outputs": [
        {
          "output_type": "stream",
          "text": [
            "Score = 0.36444\n",
            "Score = 0.33882\n",
            "Score = 0.34933\n",
            "Score = 0.35628\n",
            "Score = 0.35040\n",
            "Score = 0.34485\n",
            "Score = 0.36444\n",
            "Score = 0.33882\n",
            "Score = 0.35628\n",
            "Score = 0.35040\n",
            "(10, 4)\n"
          ],
          "name": "stdout"
        },
        {
          "output_type": "execute_result",
          "data": {
            "text/html": [
              "<div>\n",
              "<style scoped>\n",
              "    .dataframe tbody tr th:only-of-type {\n",
              "        vertical-align: middle;\n",
              "    }\n",
              "\n",
              "    .dataframe tbody tr th {\n",
              "        vertical-align: top;\n",
              "    }\n",
              "\n",
              "    .dataframe thead th {\n",
              "        text-align: right;\n",
              "    }\n",
              "</style>\n",
              "<table border=\"1\" class=\"dataframe\">\n",
              "  <thead>\n",
              "    <tr style=\"text-align: right;\">\n",
              "      <th></th>\n",
              "      <th>max_depth</th>\n",
              "      <th>max_features</th>\n",
              "      <th>n_estimators</th>\n",
              "      <th>score</th>\n",
              "    </tr>\n",
              "  </thead>\n",
              "  <tbody>\n",
              "    <tr>\n",
              "      <th>1</th>\n",
              "      <td>34</td>\n",
              "      <td>0.939039</td>\n",
              "      <td>10</td>\n",
              "      <td>0.338818</td>\n",
              "    </tr>\n",
              "    <tr>\n",
              "      <th>7</th>\n",
              "      <td>63</td>\n",
              "      <td>0.916317</td>\n",
              "      <td>10</td>\n",
              "      <td>0.338818</td>\n",
              "    </tr>\n",
              "    <tr>\n",
              "      <th>5</th>\n",
              "      <td>19</td>\n",
              "      <td>0.796031</td>\n",
              "      <td>10</td>\n",
              "      <td>0.344853</td>\n",
              "    </tr>\n",
              "    <tr>\n",
              "      <th>2</th>\n",
              "      <td>28</td>\n",
              "      <td>0.718385</td>\n",
              "      <td>10</td>\n",
              "      <td>0.349331</td>\n",
              "    </tr>\n",
              "    <tr>\n",
              "      <th>4</th>\n",
              "      <td>44</td>\n",
              "      <td>0.673892</td>\n",
              "      <td>10</td>\n",
              "      <td>0.350404</td>\n",
              "    </tr>\n",
              "  </tbody>\n",
              "</table>\n",
              "</div>"
            ],
            "text/plain": [
              "   max_depth  max_features  n_estimators     score\n",
              "1         34      0.939039            10  0.338818\n",
              "7         63      0.916317            10  0.338818\n",
              "5         19      0.796031            10  0.344853\n",
              "2         28      0.718385            10  0.349331\n",
              "4         44      0.673892            10  0.350404"
            ]
          },
          "metadata": {
            "tags": []
          },
          "execution_count": 54
        }
      ]
    },
    {
      "metadata": {
        "colab_type": "text",
        "id": "yy9nbgip6_wg"
      },
      "cell_type": "markdown",
      "source": [
        "## 최종 모델 선택"
      ]
    },
    {
      "metadata": {
        "colab_type": "code",
        "id": "2jd93hCn6_wi",
        "outputId": "5a870e7b-58d0-4664-b6e9-531eecb2b1d0",
        "colab": {
          "base_uri": "https://localhost:8080/",
          "height": 115
        }
      },
      "cell_type": "code",
      "source": [
        "from sklearn.ensemble import RandomForestRegressor\n",
        "\n",
        "model = RandomForestRegressor(n_estimators=300,\n",
        "                              max_depth=83,\n",
        "                              max_features=0.851358,\n",
        "                              random_state=37,\n",
        "                              n_jobs=-1)\n",
        "model.fit(X_train, y_train)"
      ],
      "execution_count": 0,
      "outputs": [
        {
          "output_type": "execute_result",
          "data": {
            "text/plain": [
              "RandomForestRegressor(bootstrap=True, criterion='mse', max_depth=83,\n",
              "           max_features=0.851358, max_leaf_nodes=None,\n",
              "           min_impurity_decrease=0.0, min_impurity_split=None,\n",
              "           min_samples_leaf=1, min_samples_split=2,\n",
              "           min_weight_fraction_leaf=0.0, n_estimators=300, n_jobs=-1,\n",
              "           oob_score=False, random_state=37, verbose=0, warm_start=False)"
            ]
          },
          "metadata": {
            "tags": []
          },
          "execution_count": 65
        }
      ]
    },
    {
      "metadata": {
        "colab_type": "text",
        "id": "-a00-qyy6_wn"
      },
      "cell_type": "markdown",
      "source": [
        "## Score (lmsle)"
      ]
    },
    {
      "metadata": {
        "colab_type": "text",
        "id": "DH_STdfQ6_wp"
      },
      "cell_type": "markdown",
      "source": [
        "$$ \\sqrt{\\frac{1}{n} \\sum_{i=1}^n (\\log(p_i + 1) - \\log(a_i+1))^2 } $$"
      ]
    },
    {
      "metadata": {
        "colab_type": "code",
        "id": "pCg3dLuh6_wq",
        "outputId": "a038cc99-8f23-4a59-d3fc-4ea0eada80ee",
        "scrolled": true,
        "colab": {
          "base_uri": "https://localhost:8080/",
          "height": 33
        }
      },
      "cell_type": "code",
      "source": [
        "from sklearn.model_selection import cross_val_score\n",
        "\n",
        "score = cross_val_score(model, X_train, y_train, cv=5,\n",
        "                        scoring=rmsle_scorer).mean()\n",
        "\n",
        "print(\"Score = {0:.5f}\".format(score))"
      ],
      "execution_count": 0,
      "outputs": [
        {
          "output_type": "stream",
          "text": [
            "Score = 0.31860\n"
          ],
          "name": "stdout"
        }
      ]
    },
    {
      "metadata": {
        "colab_type": "text",
        "id": "dEYPDvKn6_wt"
      },
      "cell_type": "markdown",
      "source": [
        "## 주요 특성 변수"
      ]
    },
    {
      "metadata": {
        "colab_type": "code",
        "id": "LF_ik_es6_w-",
        "outputId": "dcacc195-3c56-4ec5-97ef-ebeae3dc06be",
        "colab": {
          "base_uri": "https://localhost:8080/",
          "height": 442
        }
      },
      "cell_type": "code",
      "source": [
        "df = pd.DataFrame({'feature':features,'importance':model.feature_importances_ })\n",
        "df=df.sort_values('importance', ascending=False)\n",
        "x = df.feature\n",
        "y = df.importance\n",
        "ypos = np.arange(len(x))\n",
        "\n",
        "plt.figure(figsize=(10,7))\n",
        "plt.barh(x, y)\n",
        "plt.yticks(ypos, x)\n",
        "plt.xlabel('Importance')\n",
        "plt.ylabel('Variable')\n",
        "plt.xlim(0, 1)\n",
        "plt.ylim(-1, len(x))\n",
        "plt.show()"
      ],
      "execution_count": 0,
      "outputs": [
        {
          "output_type": "display_data",
          "data": {
            "image/png": "[encoded data removed]",
            "text/plain": [
              "<Figure size 720x504 with 1 Axes>"
            ]
          },
          "metadata": {
            "tags": []
          }
        }
      ]
    },
    {
      "metadata": {
        "colab_type": "code",
        "id": "DP8r8NYJCcKo",
        "colab": {}
      },
      "cell_type": "code",
      "source": [
        ""
      ],
      "execution_count": 0,
      "outputs": []
    }
  ]
}
